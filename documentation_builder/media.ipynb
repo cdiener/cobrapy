{
 "cells": [
  {
   "cell_type": "markdown",
   "metadata": {},
   "source": [
    "## Growth media\n",
    "\n",
    "One essential part of metabolic modeling is applying an environment that mimicks *in vivo* conditions. In metabolic models that is achieved by controlling which metabolites the the model can consume. For instance if we ran an experiment with *E. coli* in a growth medium without Histidine our model should not be able to import Histidine either.\n",
    "\n",
    "However, metabolites are not really variables in a metabolic model so there is no way of telling the model \"there is no Histidine in the growth medium\". As an alternative we can apply constraints to the respective import reactions, thus telling the model \"there is way you can import Histidine\". This can be achieved easily by fixing the respective import reaction at zero flux.\n",
    "\n",
    "So in summary, the notion COBRApy has of a growth medium is a bit different. Whereas you might be used to see a growth medium as a collection of metabolites and their concentrations COBRApy sees a growth medium **as a collection of import reactions and their maximum import fluxes**. Let's look at a small example to see how that works.  "
   ]
  },
  {
   "cell_type": "markdown",
   "metadata": {},
   "source": [
    "## Getting and assigning growth media\n",
    "\n",
    "We will use a small model of *E. coli* central carbon metabolism which is included in COBRApy"
   ]
  },
  {
   "cell_type": "code",
   "execution_count": 11,
   "metadata": {},
   "outputs": [
    {
     "name": "stdout",
     "output_type": "stream",
     "text": [
      "Growth rate = 0.8739215069684307\n"
     ]
    },
    {
     "data": {
      "text/plain": [
       "{'EX_co2_e': 1000.0,\n",
       " 'EX_glc__D_e': 10.0,\n",
       " 'EX_h2o_e': 1000.0,\n",
       " 'EX_h_e': 1000.0,\n",
       " 'EX_nh4_e': 1000.0,\n",
       " 'EX_o2_e': 1000.0,\n",
       " 'EX_pi_e': 1000.0}"
      ]
     },
     "execution_count": 11,
     "metadata": {},
     "output_type": "execute_result"
    }
   ],
   "source": [
    "from cobra.test import create_test_model\n",
    "\n",
    "model = create_test_model(\"textbook\")\n",
    "print(\"Growth rate =\", model.slim_optimize())\n",
    "model.medium"
   ]
  },
  {
   "cell_type": "markdown",
   "metadata": {},
   "source": [
    "As we can see by default the model permits imports for most major components. Now, let us simulate anaerobic growth. For that we will make a copy of the original medium and prohibit the import of Oxygen."
   ]
  },
  {
   "cell_type": "code",
   "execution_count": 14,
   "metadata": {},
   "outputs": [],
   "source": [
    "anaerobic = model.medium\n",
    "anaerobic[\"EX_o2_e\"] = 0"
   ]
  },
  {
   "cell_type": "markdown",
   "metadata": {},
   "source": [
    "You can simply assign the new medium to the model's `medium` attribute."
   ]
  },
  {
   "cell_type": "code",
   "execution_count": 15,
   "metadata": {},
   "outputs": [
    {
     "name": "stdout",
     "output_type": "stream",
     "text": [
      "Growth rate = 0.21166294973531286\n"
     ]
    },
    {
     "data": {
      "text/plain": [
       "{'EX_co2_e': 1000.0,\n",
       " 'EX_glc__D_e': 10.0,\n",
       " 'EX_h2o_e': 1000.0,\n",
       " 'EX_h_e': 1000.0,\n",
       " 'EX_nh4_e': 1000.0,\n",
       " 'EX_pi_e': 1000.0}"
      ]
     },
     "execution_count": 15,
     "metadata": {},
     "output_type": "execute_result"
    }
   ],
   "source": [
    "model.medium = anaerobic\n",
    "print(\"Growth rate =\", model.slim_optimize())\n",
    "model.medium"
   ]
  },
  {
   "cell_type": "markdown",
   "metadata": {},
   "source": [
    "As we can see Oxygen does not appear in the medium anymore (missing reactions have an import of zero), however the model still exhibits growth since *E. coli* can grow under anaerobic conditions (albeit with a lower growth rate)."
   ]
  },
  {
   "cell_type": "markdown",
   "metadata": {},
   "source": [
    "In practice you might want to apply a ceratin growth medium only for one simulation and go back to the previous growth medium afterwards. To make this easy `model.medium` automatically integrates with the COBRApy context manager."
   ]
  },
  {
   "cell_type": "code",
   "execution_count": 19,
   "metadata": {},
   "outputs": [
    {
     "name": "stdout",
     "output_type": "stream",
     "text": [
      "Temporary medium = {'EX_co2_e': 1000.0, 'EX_glc__D_e': 10.0, 'EX_h_e': 1000.0, 'EX_h2o_e': 1000.0, 'EX_nh4_e': 1000.0, 'EX_pi_e': 1000.0}\n",
      "Model medium = {'EX_co2_e': 1000.0, 'EX_glc__D_e': 10.0, 'EX_h_e': 1000.0, 'EX_h2o_e': 1000.0, 'EX_nh4_e': 1000.0, 'EX_o2_e': 1000.0, 'EX_pi_e': 1000.0}\n"
     ]
    }
   ],
   "source": [
    "model = create_test_model(\"textbook\")\n",
    "\n",
    "with model:\n",
    "    model.medium = anaerobic\n",
    "    print(\"Temporary medium =\", model.medium)\n",
    "\n",
    "print(\"Model medium =\", model.medium)"
   ]
  },
  {
   "cell_type": "markdown",
   "metadata": {},
   "source": [
    "As you can see the anaerobic medium was only applied inside the `with` block."
   ]
  },
  {
   "cell_type": "markdown",
   "metadata": {},
   "source": [
    "## Minimal media\n",
    "\n",
    "Sometimes you might be interested which is the minimal medium that still allows for a certain growth rate. A function for this question (and some others) can be found in the `media` module."
   ]
  },
  {
   "cell_type": "code",
   "execution_count": 21,
   "metadata": {},
   "outputs": [
    {
     "data": {
      "text/plain": [
       "EX_glc__D_e     7.327496\n",
       "EX_nh4_e        2.726400\n",
       "EX_o2_e        10.855375\n",
       "EX_pi_e         1.839350\n",
       "dtype: float64"
      ]
     },
     "execution_count": 21,
     "metadata": {},
     "output_type": "execute_result"
    }
   ],
   "source": [
    "from cobra.media import minimal_medium\n",
    "\n",
    "minimal_medium(model, min_growth=0.5)"
   ]
  },
  {
   "cell_type": "markdown",
   "metadata": {},
   "source": [
    "By default `minimal_medium` minimizes the total import flux (sum of all import fluxes), but you can also request the minimal medium with the least components."
   ]
  },
  {
   "cell_type": "code",
   "execution_count": 23,
   "metadata": {},
   "outputs": [
    {
     "data": {
      "text/plain": [
       "EX_glc__D_e    10.000000\n",
       "EX_h2o_e        6.934291\n",
       "EX_nh4_e        1.151308\n",
       "EX_pi_e         0.776723\n",
       "dtype: float64"
      ]
     },
     "execution_count": 23,
     "metadata": {},
     "output_type": "execute_result"
    }
   ],
   "source": [
    "minimal_medium(model, min_growth=0.2, minimize_components=True)"
   ]
  },
  {
   "cell_type": "code",
   "execution_count": null,
   "metadata": {},
   "outputs": [],
   "source": []
  }
 ],
 "metadata": {
  "kernelspec": {
   "display_name": "Python 3",
   "language": "python",
   "name": "python3"
  },
  "language_info": {
   "codemirror_mode": {
    "name": "ipython",
    "version": 3
   },
   "file_extension": ".py",
   "mimetype": "text/x-python",
   "name": "python",
   "nbconvert_exporter": "python",
   "pygments_lexer": "ipython3",
   "version": "3.6.2"
  }
 },
 "nbformat": 4,
 "nbformat_minor": 2
}
