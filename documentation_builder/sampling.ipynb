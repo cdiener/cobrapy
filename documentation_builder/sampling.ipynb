{
 "cells": [
  {
   "cell_type": "markdown",
   "metadata": {},
   "source": [
    "# Flux sampling"
   ]
  },
  {
   "cell_type": "markdown",
   "metadata": {},
   "source": [
    "## Basic usage"
   ]
  },
  {
   "cell_type": "markdown",
   "metadata": {},
   "source": [
    "The easiest way to get started with flux sampling is using the `sample` function in the `flux_analysis` submodule. `sample` takes at least two arguments: a cobra model and the number of samples you want to generate."
   ]
  },
  {
   "cell_type": "code",
   "execution_count": 1,
   "metadata": {},
   "outputs": [
    {
     "data": {
      "text/html": [
       "<div>\n",
       "<style scoped>\n",
       "    .dataframe tbody tr th:only-of-type {\n",
       "        vertical-align: middle;\n",
       "    }\n",
       "\n",
       "    .dataframe tbody tr th {\n",
       "        vertical-align: top;\n",
       "    }\n",
       "\n",
       "    .dataframe thead th {\n",
       "        text-align: right;\n",
       "    }\n",
       "</style>\n",
       "<table border=\"1\" class=\"dataframe\">\n",
       "  <thead>\n",
       "    <tr style=\"text-align: right;\">\n",
       "      <th></th>\n",
       "      <th>ACALD</th>\n",
       "      <th>ACALDt</th>\n",
       "      <th>ACKr</th>\n",
       "      <th>ACONTa</th>\n",
       "      <th>ACONTb</th>\n",
       "      <th>ACt2r</th>\n",
       "      <th>ADK1</th>\n",
       "      <th>AKGDH</th>\n",
       "      <th>AKGt2r</th>\n",
       "      <th>ALCD2x</th>\n",
       "      <th>...</th>\n",
       "      <th>RPI</th>\n",
       "      <th>SUCCt2_2</th>\n",
       "      <th>SUCCt3</th>\n",
       "      <th>SUCDi</th>\n",
       "      <th>SUCOAS</th>\n",
       "      <th>TALA</th>\n",
       "      <th>THD2</th>\n",
       "      <th>TKT1</th>\n",
       "      <th>TKT2</th>\n",
       "      <th>TPI</th>\n",
       "    </tr>\n",
       "  </thead>\n",
       "  <tbody>\n",
       "    <tr>\n",
       "      <th>0</th>\n",
       "      <td>-0.577302</td>\n",
       "      <td>-0.149662</td>\n",
       "      <td>-0.338001</td>\n",
       "      <td>10.090870</td>\n",
       "      <td>10.090870</td>\n",
       "      <td>-0.338001</td>\n",
       "      <td>0.997694</td>\n",
       "      <td>4.717467</td>\n",
       "      <td>-0.070599</td>\n",
       "      <td>-0.427639</td>\n",
       "      <td>...</td>\n",
       "      <td>-2.255649</td>\n",
       "      <td>6.152278</td>\n",
       "      <td>6.692068</td>\n",
       "      <td>821.012351</td>\n",
       "      <td>-4.717467</td>\n",
       "      <td>2.230392</td>\n",
       "      <td>133.608893</td>\n",
       "      <td>2.230392</td>\n",
       "      <td>2.220236</td>\n",
       "      <td>5.263234</td>\n",
       "    </tr>\n",
       "    <tr>\n",
       "      <th>1</th>\n",
       "      <td>-0.639279</td>\n",
       "      <td>-0.505704</td>\n",
       "      <td>-0.031929</td>\n",
       "      <td>10.631865</td>\n",
       "      <td>10.631865</td>\n",
       "      <td>-0.031929</td>\n",
       "      <td>4.207702</td>\n",
       "      <td>6.763224</td>\n",
       "      <td>-0.024720</td>\n",
       "      <td>-0.133575</td>\n",
       "      <td>...</td>\n",
       "      <td>-0.769792</td>\n",
       "      <td>14.894313</td>\n",
       "      <td>14.929989</td>\n",
       "      <td>521.410118</td>\n",
       "      <td>-6.763224</td>\n",
       "      <td>0.755207</td>\n",
       "      <td>66.656770</td>\n",
       "      <td>0.755207</td>\n",
       "      <td>0.749341</td>\n",
       "      <td>7.135499</td>\n",
       "    </tr>\n",
       "    <tr>\n",
       "      <th>2</th>\n",
       "      <td>-1.983410</td>\n",
       "      <td>-0.434676</td>\n",
       "      <td>-0.408318</td>\n",
       "      <td>11.046294</td>\n",
       "      <td>11.046294</td>\n",
       "      <td>-0.408318</td>\n",
       "      <td>5.510960</td>\n",
       "      <td>7.240802</td>\n",
       "      <td>-0.501086</td>\n",
       "      <td>-1.548735</td>\n",
       "      <td>...</td>\n",
       "      <td>-0.088852</td>\n",
       "      <td>15.211972</td>\n",
       "      <td>15.807554</td>\n",
       "      <td>756.884622</td>\n",
       "      <td>-7.240802</td>\n",
       "      <td>0.065205</td>\n",
       "      <td>42.830676</td>\n",
       "      <td>0.065205</td>\n",
       "      <td>0.055695</td>\n",
       "      <td>8.109647</td>\n",
       "    </tr>\n",
       "    <tr>\n",
       "      <th>3</th>\n",
       "      <td>-1.893551</td>\n",
       "      <td>-0.618887</td>\n",
       "      <td>-0.612598</td>\n",
       "      <td>8.879426</td>\n",
       "      <td>8.879426</td>\n",
       "      <td>-0.612598</td>\n",
       "      <td>6.194372</td>\n",
       "      <td>5.382222</td>\n",
       "      <td>-0.563573</td>\n",
       "      <td>-1.274664</td>\n",
       "      <td>...</td>\n",
       "      <td>-1.728387</td>\n",
       "      <td>15.960829</td>\n",
       "      <td>17.404437</td>\n",
       "      <td>556.750972</td>\n",
       "      <td>-5.382222</td>\n",
       "      <td>1.714682</td>\n",
       "      <td>37.386748</td>\n",
       "      <td>1.714682</td>\n",
       "      <td>1.709171</td>\n",
       "      <td>7.003325</td>\n",
       "    </tr>\n",
       "    <tr>\n",
       "      <th>4</th>\n",
       "      <td>-1.759520</td>\n",
       "      <td>-0.321021</td>\n",
       "      <td>-0.262520</td>\n",
       "      <td>10.801480</td>\n",
       "      <td>10.801480</td>\n",
       "      <td>-0.262520</td>\n",
       "      <td>4.815146</td>\n",
       "      <td>9.236588</td>\n",
       "      <td>-0.359817</td>\n",
       "      <td>-1.438499</td>\n",
       "      <td>...</td>\n",
       "      <td>-2.840577</td>\n",
       "      <td>12.379023</td>\n",
       "      <td>13.141259</td>\n",
       "      <td>440.132011</td>\n",
       "      <td>-9.236588</td>\n",
       "      <td>2.822071</td>\n",
       "      <td>0.292885</td>\n",
       "      <td>2.822071</td>\n",
       "      <td>2.814629</td>\n",
       "      <td>6.205245</td>\n",
       "    </tr>\n",
       "  </tbody>\n",
       "</table>\n",
       "<p>5 rows × 95 columns</p>\n",
       "</div>"
      ],
      "text/plain": [
       "      ACALD    ACALDt      ACKr     ACONTa     ACONTb     ACt2r      ADK1  \\\n",
       "0 -0.577302 -0.149662 -0.338001  10.090870  10.090870 -0.338001  0.997694   \n",
       "1 -0.639279 -0.505704 -0.031929  10.631865  10.631865 -0.031929  4.207702   \n",
       "2 -1.983410 -0.434676 -0.408318  11.046294  11.046294 -0.408318  5.510960   \n",
       "3 -1.893551 -0.618887 -0.612598   8.879426   8.879426 -0.612598  6.194372   \n",
       "4 -1.759520 -0.321021 -0.262520  10.801480  10.801480 -0.262520  4.815146   \n",
       "\n",
       "      AKGDH    AKGt2r    ALCD2x    ...          RPI   SUCCt2_2     SUCCt3  \\\n",
       "0  4.717467 -0.070599 -0.427639    ...    -2.255649   6.152278   6.692068   \n",
       "1  6.763224 -0.024720 -0.133575    ...    -0.769792  14.894313  14.929989   \n",
       "2  7.240802 -0.501086 -1.548735    ...    -0.088852  15.211972  15.807554   \n",
       "3  5.382222 -0.563573 -1.274664    ...    -1.728387  15.960829  17.404437   \n",
       "4  9.236588 -0.359817 -1.438499    ...    -2.840577  12.379023  13.141259   \n",
       "\n",
       "        SUCDi    SUCOAS      TALA        THD2      TKT1      TKT2       TPI  \n",
       "0  821.012351 -4.717467  2.230392  133.608893  2.230392  2.220236  5.263234  \n",
       "1  521.410118 -6.763224  0.755207   66.656770  0.755207  0.749341  7.135499  \n",
       "2  756.884622 -7.240802  0.065205   42.830676  0.065205  0.055695  8.109647  \n",
       "3  556.750972 -5.382222  1.714682   37.386748  1.714682  1.709171  7.003325  \n",
       "4  440.132011 -9.236588  2.822071    0.292885  2.822071  2.814629  6.205245  \n",
       "\n",
       "[5 rows x 95 columns]"
      ]
     },
     "execution_count": 1,
     "metadata": {},
     "output_type": "execute_result"
    }
   ],
   "source": [
    "from cobra.test import create_test_model\n",
    "from cobra.flux_analysis import sample\n",
    "\n",
    "model = create_test_model(\"textbook\")\n",
    "s = sample(model, 100)\n",
    "s.head()"
   ]
  },
  {
   "cell_type": "markdown",
   "metadata": {},
   "source": [
    "By default sample uses the `optgp` method based on the [method presented here](http://dx.doi.org/10.1371/journal.pone.0086587) as it is suited for larger models and can run in parallel. By default the sampler uses a single process. This can be changed by using the `processes` argument."
   ]
  },
  {
   "cell_type": "code",
   "execution_count": 2,
   "metadata": {},
   "outputs": [
    {
     "name": "stdout",
     "output_type": "stream",
     "text": [
      "One process:\n",
      "CPU times: user 7.91 s, sys: 4.09 s, total: 12 s\n",
      "Wall time: 6.52 s\n",
      "Two processes:\n",
      "CPU times: user 288 ms, sys: 495 ms, total: 783 ms\n",
      "Wall time: 3.52 s\n"
     ]
    }
   ],
   "source": [
    "print(\"One process:\")\n",
    "%time s = sample(model, 1000)\n",
    "print(\"Two processes:\")\n",
    "%time s = sample(model, 1000, processes=2)"
   ]
  },
  {
   "cell_type": "markdown",
   "metadata": {},
   "source": [
    "Alternatively you can also user Artificial Centering Hit-and-Run for sampling by setting the method to `achr`.  `achr` does not support parallel execution but has good convergence and is almost Markovian."
   ]
  },
  {
   "cell_type": "code",
   "execution_count": 3,
   "metadata": {
    "collapsed": true
   },
   "outputs": [],
   "source": [
    "s = sample(model, 100, method=\"achr\")"
   ]
  },
  {
   "cell_type": "markdown",
   "metadata": {},
   "source": [
    "In general setting up the sampler is expensive since initial search directions are generated by solving many linear programming problems. Thus, we recommend to generate as many samples as possible in one go. However, this might require finer control over the sampling procedure as described in the following section."
   ]
  },
  {
   "cell_type": "markdown",
   "metadata": {},
   "source": [
    "## Advanced usage"
   ]
  },
  {
   "cell_type": "markdown",
   "metadata": {},
   "source": [
    "### Sampler objects"
   ]
  },
  {
   "cell_type": "markdown",
   "metadata": {},
   "source": [
    "The sampling process can be controlled on a lower level by using the sampler classes directly."
   ]
  },
  {
   "cell_type": "code",
   "execution_count": 4,
   "metadata": {
    "collapsed": true
   },
   "outputs": [],
   "source": [
    "from cobra.flux_analysis.sampling import OptGPSampler, ACHRSampler"
   ]
  },
  {
   "cell_type": "markdown",
   "metadata": {},
   "source": [
    "Both sampler classes have standardized interfaces and take some additional argument. For instance the `thinning` factor. \"Thinning\" means only recording samples every n iterations. A higher thinning factors mean less correlated samples but also larger computation times. By default the samplers use a thinning factor of 100 which creates roughly uncorrelated samples. If you want less samples but better mixing feel free to increase this parameter. If you want to study convergence for your own model you might want to set it to 1 to obtain all iterates."
   ]
  },
  {
   "cell_type": "code",
   "execution_count": 5,
   "metadata": {
    "collapsed": true
   },
   "outputs": [],
   "source": [
    "achr = ACHRSampler(model, thinning=10)"
   ]
  },
  {
   "cell_type": "markdown",
   "metadata": {},
   "source": [
    "`OptGPSampler` has an additional `processes` argument specifying how many processes are used to create parallel sampling chains. This should be in the order of your CPU cores for maximum efficiency. As noted before class initialization can take up to a few minutes due to generation of initial search directions. Sampling on the other hand is quick."
   ]
  },
  {
   "cell_type": "code",
   "execution_count": 6,
   "metadata": {
    "collapsed": true
   },
   "outputs": [],
   "source": [
    "optgp = OptGPSampler(model, processes=4)"
   ]
  },
  {
   "cell_type": "markdown",
   "metadata": {},
   "source": [
    "### Sampling and validation"
   ]
  },
  {
   "cell_type": "markdown",
   "metadata": {},
   "source": [
    "Both samplers have a sample function that generates samples from the initialized object and act like the `sample` function described above, only that this time it will only accept a single argument, the number of samples. For `OptGPSampler` the number of samples should be a multiple of the number of processes, otherwise it will be increased to the nearest multiple automatically."
   ]
  },
  {
   "cell_type": "code",
   "execution_count": 7,
   "metadata": {
    "collapsed": true
   },
   "outputs": [],
   "source": [
    "s1 = achr.sample(100)\n",
    "\n",
    "s2 = optgp.sample(100)"
   ]
  },
  {
   "cell_type": "markdown",
   "metadata": {},
   "source": [
    "You can call `sample` repeatedly and both samplers are optimized to generate large amount of samples without falling into \"numerical traps\". All sampler objects have a `validate` function in order to check if a set of points are feasible and give detailed information about feasibility violations in a form of a short code denoting feasibility. Here the short code is a combination of any of the following letters:\n",
    "\n",
    "- \"v\" - valid point\n",
    "- \"l\" - lower bound violation\n",
    "- \"u\" - upper bound violation\n",
    "- \"e\" - equality violation (meaning the point is not a steady state)\n",
    "\n",
    "For instance for a random flux distribution (should not be feasible):"
   ]
  },
  {
   "cell_type": "code",
   "execution_count": 8,
   "metadata": {},
   "outputs": [
    {
     "data": {
      "text/plain": [
       "array(['le'], dtype='<U3')"
      ]
     },
     "execution_count": 8,
     "metadata": {},
     "output_type": "execute_result"
    }
   ],
   "source": [
    "import numpy as np\n",
    "\n",
    "bad = np.random.uniform(-1000, 1000, size=len(model.reactions))\n",
    "achr.validate(np.atleast_2d(bad))"
   ]
  },
  {
   "cell_type": "markdown",
   "metadata": {},
   "source": [
    "And for our generated samples:"
   ]
  },
  {
   "cell_type": "code",
   "execution_count": 9,
   "metadata": {},
   "outputs": [
    {
     "data": {
      "text/plain": [
       "array(['v', 'v', 'v', 'v', 'v', 'v', 'v', 'v', 'v', 'v', 'v', 'v', 'v',\n",
       "       'v', 'v', 'v', 'v', 'v', 'v', 'v', 'v', 'v', 'v', 'v', 'v', 'v',\n",
       "       'v', 'v', 'v', 'v', 'v', 'v', 'v', 'v', 'v', 'v', 'v', 'v', 'v',\n",
       "       'v', 'v', 'v', 'v', 'v', 'v', 'v', 'v', 'v', 'v', 'v', 'v', 'v',\n",
       "       'v', 'v', 'v', 'v', 'v', 'v', 'v', 'v', 'v', 'v', 'v', 'v', 'v',\n",
       "       'v', 'v', 'v', 'v', 'v', 'v', 'v', 'v', 'v', 'v', 'v', 'v', 'v',\n",
       "       'v', 'v', 'v', 'v', 'v', 'v', 'v', 'v', 'v', 'v', 'v', 'v', 'v',\n",
       "       'v', 'v', 'v', 'v', 'v', 'v', 'v', 'v', 'v'], dtype='<U3')"
      ]
     },
     "execution_count": 9,
     "metadata": {},
     "output_type": "execute_result"
    }
   ],
   "source": [
    "achr.validate(s1)"
   ]
  },
  {
   "cell_type": "markdown",
   "metadata": {},
   "source": [
    "Even though most models are numerically stable enought that the sampler should only generate valid samples we still urge to check this. `validate` is pretty fast and works quickly even for large models and many samples. If you find invalid samples you do not necessarily have to rerun the entire sampling but can exclude them from the sample DataFrame."
   ]
  },
  {
   "cell_type": "code",
   "execution_count": 10,
   "metadata": {},
   "outputs": [
    {
     "data": {
      "text/plain": [
       "100"
      ]
     },
     "execution_count": 10,
     "metadata": {},
     "output_type": "execute_result"
    }
   ],
   "source": [
    "s1_valid = s1[achr.validate(s1) == \"v\"]\n",
    "len(s1_valid)"
   ]
  },
  {
   "cell_type": "markdown",
   "metadata": {},
   "source": [
    "### Batch sampling"
   ]
  },
  {
   "cell_type": "markdown",
   "metadata": {},
   "source": [
    "Sampler objects are made for generating billions of samples, however using the `sample` function might quickly fill up your RAM when working with genome-scale models. Here, the `batch` method of the sampler objects might come in handy. `batch` takes two arguments, the number of samples in each batch and the number of batches. This will make sense with a small example. \n",
    "\n",
    "Let's assume we want to quantify what proportion of our samples will grow. For that we might want to generate 10 batches of 50 samples each and measure what percentage of the individual 100 samples show a growth rate larger than 0.1. Finally, we want to calculate the mean and standard deviation of those individual percentages."
   ]
  },
  {
   "cell_type": "code",
   "execution_count": 11,
   "metadata": {},
   "outputs": [
    {
     "name": "stdout",
     "output_type": "stream",
     "text": [
      "Usually 10.90% +- 3.83% grow...\n"
     ]
    }
   ],
   "source": [
    "counts = [np.mean(s.Biomass_Ecoli_core > 0.1) for s in optgp.batch(100, 10)]\n",
    "print(\"Usually {:.2f}% +- {:.2f}% grow...\".format(\n",
    "    np.mean(counts) * 100.0, np.std(counts) * 100.0))"
   ]
  },
  {
   "cell_type": "markdown",
   "metadata": {},
   "source": [
    "## Adding constraints"
   ]
  },
  {
   "cell_type": "markdown",
   "metadata": {},
   "source": [
    "Flux sampling will respect additional contraints defined in the model. For instance we can add a constraint enforcing growth in asimilar manner as the section before."
   ]
  },
  {
   "cell_type": "code",
   "execution_count": 12,
   "metadata": {
    "collapsed": true
   },
   "outputs": [],
   "source": [
    "co = model.problem.Constraint(model.reactions.Biomass_Ecoli_core.flux_expression, lb=0.1)\n",
    "model.add_cons_vars([co])"
   ]
  },
  {
   "cell_type": "markdown",
   "metadata": {},
   "source": [
    "*Note that this is only for demonstration purposes. usually you could set the lower bound of the reaction directly instead of creating a new constraint.*"
   ]
  },
  {
   "cell_type": "code",
   "execution_count": 13,
   "metadata": {},
   "outputs": [
    {
     "name": "stdout",
     "output_type": "stream",
     "text": [
      "0    0.118106\n",
      "1    0.120205\n",
      "2    0.206187\n",
      "3    0.198633\n",
      "4    0.206575\n",
      "5    0.119032\n",
      "6    0.119231\n",
      "7    0.127219\n",
      "8    0.120086\n",
      "9    0.182586\n",
      "Name: Biomass_Ecoli_core, dtype: float64\n"
     ]
    }
   ],
   "source": [
    "s = sample(model, 10)\n",
    "print(s.Biomass_Ecoli_core)"
   ]
  },
  {
   "cell_type": "markdown",
   "metadata": {},
   "source": [
    "As we can see our new constraint was respected."
   ]
  }
 ],
 "metadata": {
  "anaconda-cloud": {},
  "kernelspec": {
   "display_name": "Python 3",
   "language": "python",
   "name": "python3"
  },
  "language_info": {
   "codemirror_mode": {
    "name": "ipython",
    "version": 3
   },
   "file_extension": ".py",
   "mimetype": "text/x-python",
   "name": "python",
   "nbconvert_exporter": "python",
   "pygments_lexer": "ipython3",
   "version": "3.6.4"
  }
 },
 "nbformat": 4,
 "nbformat_minor": 2
}
