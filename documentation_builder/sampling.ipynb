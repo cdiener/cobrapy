{
 "cells": [
  {
   "cell_type": "markdown",
   "metadata": {},
   "source": [
    "# Flux sampling"
   ]
  },
  {
   "cell_type": "markdown",
   "metadata": {},
   "source": [
    "## Basic usage"
   ]
  },
  {
   "cell_type": "markdown",
   "metadata": {},
   "source": [
    "The easiest way to get started with flux sampling is using the `sample` function in the `flux_analysis` submodule. `sample` takes at least two arguments: a cobra model and the number of samples you want to generate."
   ]
  },
  {
   "cell_type": "code",
   "execution_count": 1,
   "metadata": {},
   "outputs": [
    {
     "data": {
      "text/html": [
       "<div>\n",
       "<table border=\"1\" class=\"dataframe\">\n",
       "  <thead>\n",
       "    <tr style=\"text-align: right;\">\n",
       "      <th></th>\n",
       "      <th>ACALD</th>\n",
       "      <th>ACALDt</th>\n",
       "      <th>ACKr</th>\n",
       "      <th>ACONTa</th>\n",
       "      <th>ACONTb</th>\n",
       "      <th>ACt2r</th>\n",
       "      <th>ADK1</th>\n",
       "      <th>AKGDH</th>\n",
       "      <th>AKGt2r</th>\n",
       "      <th>ALCD2x</th>\n",
       "      <th>...</th>\n",
       "      <th>RPI</th>\n",
       "      <th>SUCCt2_2</th>\n",
       "      <th>SUCCt3</th>\n",
       "      <th>SUCDi</th>\n",
       "      <th>SUCOAS</th>\n",
       "      <th>TALA</th>\n",
       "      <th>THD2</th>\n",
       "      <th>TKT1</th>\n",
       "      <th>TKT2</th>\n",
       "      <th>TPI</th>\n",
       "    </tr>\n",
       "  </thead>\n",
       "  <tbody>\n",
       "    <tr>\n",
       "      <th>0</th>\n",
       "      <td>-0.138418</td>\n",
       "      <td>-0.007443</td>\n",
       "      <td>-0.140351</td>\n",
       "      <td>5.815865</td>\n",
       "      <td>5.815865</td>\n",
       "      <td>-0.140351</td>\n",
       "      <td>7.061811</td>\n",
       "      <td>0.661809</td>\n",
       "      <td>-0.600300</td>\n",
       "      <td>-0.130976</td>\n",
       "      <td>...</td>\n",
       "      <td>-4.835818</td>\n",
       "      <td>7.330825</td>\n",
       "      <td>8.560406</td>\n",
       "      <td>638.055628</td>\n",
       "      <td>-0.661809</td>\n",
       "      <td>4.835438</td>\n",
       "      <td>7.344945</td>\n",
       "      <td>4.835438</td>\n",
       "      <td>4.835286</td>\n",
       "      <td>4.375830</td>\n",
       "    </tr>\n",
       "    <tr>\n",
       "      <th>1</th>\n",
       "      <td>-1.186611</td>\n",
       "      <td>-0.151028</td>\n",
       "      <td>-0.743592</td>\n",
       "      <td>6.779593</td>\n",
       "      <td>6.779593</td>\n",
       "      <td>-0.743592</td>\n",
       "      <td>7.071247</td>\n",
       "      <td>2.681170</td>\n",
       "      <td>-0.612076</td>\n",
       "      <td>-1.035583</td>\n",
       "      <td>...</td>\n",
       "      <td>-3.816782</td>\n",
       "      <td>16.226150</td>\n",
       "      <td>17.127049</td>\n",
       "      <td>594.924213</td>\n",
       "      <td>-2.681170</td>\n",
       "      <td>3.812960</td>\n",
       "      <td>20.987681</td>\n",
       "      <td>3.812960</td>\n",
       "      <td>3.811424</td>\n",
       "      <td>5.395978</td>\n",
       "    </tr>\n",
       "    <tr>\n",
       "      <th>2</th>\n",
       "      <td>-1.126487</td>\n",
       "      <td>-0.158074</td>\n",
       "      <td>-0.832578</td>\n",
       "      <td>7.449216</td>\n",
       "      <td>7.449216</td>\n",
       "      <td>-0.832578</td>\n",
       "      <td>10.441861</td>\n",
       "      <td>3.959961</td>\n",
       "      <td>-0.648730</td>\n",
       "      <td>-0.968413</td>\n",
       "      <td>...</td>\n",
       "      <td>-5.577614</td>\n",
       "      <td>4.154524</td>\n",
       "      <td>4.270371</td>\n",
       "      <td>551.412357</td>\n",
       "      <td>-3.959961</td>\n",
       "      <td>5.573537</td>\n",
       "      <td>27.635521</td>\n",
       "      <td>5.573537</td>\n",
       "      <td>5.571897</td>\n",
       "      <td>3.739413</td>\n",
       "    </tr>\n",
       "    <tr>\n",
       "      <th>3</th>\n",
       "      <td>-1.252806</td>\n",
       "      <td>-0.148776</td>\n",
       "      <td>-0.243209</td>\n",
       "      <td>7.129622</td>\n",
       "      <td>7.129622</td>\n",
       "      <td>-0.243209</td>\n",
       "      <td>10.979313</td>\n",
       "      <td>0.492235</td>\n",
       "      <td>-1.489826</td>\n",
       "      <td>-1.104031</td>\n",
       "      <td>...</td>\n",
       "      <td>-5.599746</td>\n",
       "      <td>13.425704</td>\n",
       "      <td>13.801661</td>\n",
       "      <td>841.109531</td>\n",
       "      <td>-0.492235</td>\n",
       "      <td>5.582190</td>\n",
       "      <td>10.129844</td>\n",
       "      <td>5.582190</td>\n",
       "      <td>5.575129</td>\n",
       "      <td>4.093422</td>\n",
       "    </tr>\n",
       "    <tr>\n",
       "      <th>4</th>\n",
       "      <td>-0.511033</td>\n",
       "      <td>-0.246761</td>\n",
       "      <td>-0.042680</td>\n",
       "      <td>8.146012</td>\n",
       "      <td>8.146012</td>\n",
       "      <td>-0.042680</td>\n",
       "      <td>9.205141</td>\n",
       "      <td>3.021588</td>\n",
       "      <td>-1.857814</td>\n",
       "      <td>-0.264272</td>\n",
       "      <td>...</td>\n",
       "      <td>-3.919012</td>\n",
       "      <td>10.950205</td>\n",
       "      <td>11.164086</td>\n",
       "      <td>796.765674</td>\n",
       "      <td>-3.021588</td>\n",
       "      <td>3.905839</td>\n",
       "      <td>1.932595</td>\n",
       "      <td>3.905839</td>\n",
       "      <td>3.900542</td>\n",
       "      <td>4.584599</td>\n",
       "    </tr>\n",
       "  </tbody>\n",
       "</table>\n",
       "<p>5 rows × 95 columns</p>\n",
       "</div>"
      ],
      "text/plain": [
       "      ACALD    ACALDt      ACKr    ACONTa    ACONTb     ACt2r       ADK1  \\\n",
       "0 -0.138418 -0.007443 -0.140351  5.815865  5.815865 -0.140351   7.061811   \n",
       "1 -1.186611 -0.151028 -0.743592  6.779593  6.779593 -0.743592   7.071247   \n",
       "2 -1.126487 -0.158074 -0.832578  7.449216  7.449216 -0.832578  10.441861   \n",
       "3 -1.252806 -0.148776 -0.243209  7.129622  7.129622 -0.243209  10.979313   \n",
       "4 -0.511033 -0.246761 -0.042680  8.146012  8.146012 -0.042680   9.205141   \n",
       "\n",
       "      AKGDH    AKGt2r    ALCD2x    ...          RPI   SUCCt2_2     SUCCt3  \\\n",
       "0  0.661809 -0.600300 -0.130976    ...    -4.835818   7.330825   8.560406   \n",
       "1  2.681170 -0.612076 -1.035583    ...    -3.816782  16.226150  17.127049   \n",
       "2  3.959961 -0.648730 -0.968413    ...    -5.577614   4.154524   4.270371   \n",
       "3  0.492235 -1.489826 -1.104031    ...    -5.599746  13.425704  13.801661   \n",
       "4  3.021588 -1.857814 -0.264272    ...    -3.919012  10.950205  11.164086   \n",
       "\n",
       "        SUCDi    SUCOAS      TALA       THD2      TKT1      TKT2       TPI  \n",
       "0  638.055628 -0.661809  4.835438   7.344945  4.835438  4.835286  4.375830  \n",
       "1  594.924213 -2.681170  3.812960  20.987681  3.812960  3.811424  5.395978  \n",
       "2  551.412357 -3.959961  5.573537  27.635521  5.573537  5.571897  3.739413  \n",
       "3  841.109531 -0.492235  5.582190  10.129844  5.582190  5.575129  4.093422  \n",
       "4  796.765674 -3.021588  3.905839   1.932595  3.905839  3.900542  4.584599  \n",
       "\n",
       "[5 rows x 95 columns]"
      ]
     },
     "execution_count": 1,
     "metadata": {},
     "output_type": "execute_result"
    }
   ],
   "source": [
    "from cobra.test import create_test_model\n",
    "from cobra.flux_analysis import sample\n",
    "\n",
    "model = create_test_model(\"textbook\")\n",
    "s = sample(model, 100)\n",
    "s.head()"
   ]
  },
  {
   "cell_type": "markdown",
   "metadata": {},
   "source": [
    "By default sample uses the `optgp` method based on the [method presented here](http://dx.doi.org/10.1371/journal.pone.0086587) as it is suited for larger models and can run in parallel. By default the sampler uses a single process. This can be changed by using the `processes` argument."
   ]
  },
  {
   "cell_type": "code",
   "execution_count": 2,
   "metadata": {},
   "outputs": [
    {
     "name": "stdout",
     "output_type": "stream",
     "text": [
      "One process:\n",
      "CPU times: user 5.07 s, sys: 497 ms, total: 5.57 s\n",
      "Wall time: 5.03 s\n",
      "Two processes:\n",
      "CPU times: user 246 ms, sys: 642 ms, total: 888 ms\n",
      "Wall time: 2.63 s\n"
     ]
    }
   ],
   "source": [
    "print(\"One process:\")\n",
    "%time s = sample(model, 1000)\n",
    "print(\"Two processes:\")\n",
    "%time s = sample(model, 1000, processes=2)"
   ]
  },
  {
   "cell_type": "markdown",
   "metadata": {},
   "source": [
    "Alternatively you can also user Artificial Centering Hit-and-Run for sampling by setting the method to `arch`. `arch` does not support parallel execution but has good convergence and is almost Markovian."
   ]
  },
  {
   "cell_type": "code",
   "execution_count": 3,
   "metadata": {
    "collapsed": true
   },
   "outputs": [],
   "source": [
    "s = sample(model, 100, method=\"arch\")"
   ]
  },
  {
   "cell_type": "markdown",
   "metadata": {},
   "source": [
    "In general setting up the sampler is expensive since initial search directions are generated by solving many linear programming problems. Thus, we recommend to generate as many samples as possible in one go. However, this might require finer control over the sampling procedure as described in the following section."
   ]
  },
  {
   "cell_type": "markdown",
   "metadata": {},
   "source": [
    "## Advanced usage"
   ]
  },
  {
   "cell_type": "markdown",
   "metadata": {},
   "source": [
    "### Sampler objects"
   ]
  },
  {
   "cell_type": "markdown",
   "metadata": {},
   "source": [
    "The sampling process can be controlled on a lower level by using the sampler classes directly."
   ]
  },
  {
   "cell_type": "code",
   "execution_count": 4,
   "metadata": {
    "collapsed": true
   },
   "outputs": [],
   "source": [
    "from cobra.flux_analysis.sampling import OptGPSampler, ARCHSampler"
   ]
  },
  {
   "cell_type": "markdown",
   "metadata": {},
   "source": [
    "Both sampler classes have standardized interfaces and take some additional argument. For instance the `thinning` factor. \"Thinning\" means only recording samples every n iterations. A higher thinning factors mean less correlated samples but also larger computation times. By default the samplers use a thinning factor of 100 which creates roughly uncorrelated samples. If you want less samples but better mixing feel free to increase this parameter. If you want to study convergence for your own model you might want to set it to 1 to obtain all iterates."
   ]
  },
  {
   "cell_type": "code",
   "execution_count": 5,
   "metadata": {
    "collapsed": true
   },
   "outputs": [],
   "source": [
    "arch = ARCHSampler(model, thinning=10)"
   ]
  },
  {
   "cell_type": "markdown",
   "metadata": {},
   "source": [
    "`OptGPSampler` has an additional `processes` argument specifying how many processes are used to create parallel sampling chains. This should be in the order of your CPU cores for maximum efficiency. As noted before class initialization can take up to a few minutes due to generation of initial search directions. Sampling on the other hand is quick."
   ]
  },
  {
   "cell_type": "code",
   "execution_count": 6,
   "metadata": {
    "collapsed": true
   },
   "outputs": [],
   "source": [
    "optgp = OptGPSampler(model, processes=4)"
   ]
  },
  {
   "cell_type": "markdown",
   "metadata": {},
   "source": [
    "### Sampling and validation"
   ]
  },
  {
   "cell_type": "markdown",
   "metadata": {},
   "source": [
    "Both samplers have a sample function that generates samples from the initialized object and act like the `sample` function described above, only that this time it will only accept a single argument, the number of samples. For `OptGPSampler` the number of samples should be a multiple of the number of processes, otherwise it will be increased to the nearest multiple automatically."
   ]
  },
  {
   "cell_type": "code",
   "execution_count": 7,
   "metadata": {
    "collapsed": true
   },
   "outputs": [],
   "source": [
    "s1 = arch.sample(100)\n",
    "\n",
    "s2 = optgp.sample(100)"
   ]
  },
  {
   "cell_type": "markdown",
   "metadata": {},
   "source": [
    "You can call `sample` repeatedly and both samplers are optimized to generate large amount of samples without falling into \"numerical traps\". All sampler objects have a `validate` function in order to check if a set of points are feasible and give detailed information about feasibility violations in a form of a short code denoting feasibility. Here the short code is a combination of any of the following letters:\n",
    "\n",
    "- \"v\" - valid point\n",
    "- \"l\" - lower bound violation\n",
    "- \"u\" - upper bound violation\n",
    "- \"e\" - equality violation (meaning the point is not a steady state)\n",
    "\n",
    "For instance for a random flux distribution (should not be feasible):"
   ]
  },
  {
   "cell_type": "code",
   "execution_count": 8,
   "metadata": {},
   "outputs": [
    {
     "data": {
      "text/plain": [
       "array(['le'], \n",
       "      dtype='<U3')"
      ]
     },
     "execution_count": 8,
     "metadata": {},
     "output_type": "execute_result"
    }
   ],
   "source": [
    "import numpy as np\n",
    "\n",
    "bad = np.random.uniform(-1000, 1000, size=len(model.reactions))\n",
    "arch.validate(np.atleast_2d(bad))"
   ]
  },
  {
   "cell_type": "markdown",
   "metadata": {},
   "source": [
    "And for our generated samples:"
   ]
  },
  {
   "cell_type": "code",
   "execution_count": 9,
   "metadata": {},
   "outputs": [
    {
     "data": {
      "text/plain": [
       "array(['v', 'v', 'v', 'v', 'v', 'v', 'v', 'v', 'v', 'v', 'v', 'v', 'v',\n",
       "       'v', 'v', 'v', 'v', 'v', 'v', 'v', 'v', 'v', 'v', 'v', 'v', 'v',\n",
       "       'v', 'v', 'v', 'v', 'v', 'v', 'v', 'v', 'v', 'v', 'v', 'v', 'v',\n",
       "       'v', 'v', 'v', 'v', 'v', 'v', 'v', 'v', 'v', 'v', 'v', 'v', 'v',\n",
       "       'v', 'v', 'v', 'v', 'v', 'v', 'v', 'v', 'v', 'v', 'v', 'v', 'v',\n",
       "       'v', 'v', 'v', 'v', 'v', 'v', 'v', 'v', 'v', 'v', 'v', 'v', 'v',\n",
       "       'v', 'v', 'v', 'v', 'v', 'v', 'v', 'v', 'v', 'v', 'v', 'v', 'v',\n",
       "       'v', 'v', 'v', 'v', 'v', 'v', 'v', 'v', 'v'], \n",
       "      dtype='<U3')"
      ]
     },
     "execution_count": 9,
     "metadata": {},
     "output_type": "execute_result"
    }
   ],
   "source": [
    "arch.validate(s1)"
   ]
  },
  {
   "cell_type": "markdown",
   "metadata": {},
   "source": [
    "### Batch sampling"
   ]
  },
  {
   "cell_type": "markdown",
   "metadata": {},
   "source": [
    "Sampler objects are made for generating billions of samples, however using the `sample` function might quickly fill up your RAM when working with genome-scale models. Here, the `batch` method of the sampler objects might come in handy. `batch` takes two arguments, the number of samples in each batch and the number of batches. This will make sense with a small example. \n",
    "\n",
    "Let's assume we want to quantify what proportion of our samples will grow. For that we might want to generate 10 batches of 50 samples each and measure what percentage of the individual 100 samples show a growth rate larger than 0.1. Finally, we want to calculate the mean and standard deviation of those individual percentages."
   ]
  },
  {
   "cell_type": "code",
   "execution_count": 10,
   "metadata": {},
   "outputs": [
    {
     "name": "stdout",
     "output_type": "stream",
     "text": [
      "Usually 5.20% +- 1.72% grow...\n"
     ]
    }
   ],
   "source": [
    "counts = [np.mean(s.Biomass_Ecoli_core > 0.1) for s in optgp.batch(100, 10)]\n",
    "print(\"Usually {:.2f}% +- {:.2f}% grow...\".format(\n",
    "    np.mean(counts) * 100.0, np.std(counts) * 100.0))"
   ]
  },
  {
   "cell_type": "markdown",
   "metadata": {},
   "source": [
    "## Adding constraints"
   ]
  },
  {
   "cell_type": "markdown",
   "metadata": {},
   "source": [
    "Flux sampling will respect additional contraints defined in the model. For instance we can add a constraint enforcing growth in asimilar manner as the section before."
   ]
  },
  {
   "cell_type": "code",
   "execution_count": 11,
   "metadata": {
    "collapsed": true
   },
   "outputs": [],
   "source": [
    "co = model.problem.Constraint(model.reactions.Biomass_Ecoli_core.flux_expression, lb=0.1)\n",
    "model.add_cons_vars([co])"
   ]
  },
  {
   "cell_type": "markdown",
   "metadata": {},
   "source": [
    "*Note that this is only for demonstration purposes. usually you could set the lower bound of the reaction directly instead of creating a new constraint.*"
   ]
  },
  {
   "cell_type": "code",
   "execution_count": 12,
   "metadata": {},
   "outputs": [
    {
     "name": "stdout",
     "output_type": "stream",
     "text": [
      "0    0.137251\n",
      "1    0.148080\n",
      "2    0.153586\n",
      "3    0.145562\n",
      "4    0.150578\n",
      "5    0.125127\n",
      "6    0.130563\n",
      "7    0.139333\n",
      "8    0.120124\n",
      "9    0.120522\n",
      "Name: Biomass_Ecoli_core, dtype: float64\n"
     ]
    }
   ],
   "source": [
    "s = sample(model, 10)\n",
    "print(s.Biomass_Ecoli_core)"
   ]
  },
  {
   "cell_type": "markdown",
   "metadata": {},
   "source": [
    "As we can see our new constraint was respected. It should be noted that adding **equality** constraints will strongly affect the performance of the sampler (about 10x slower) due to an additional required projection step in each iteration."
   ]
  }
 ],
 "metadata": {
  "anaconda-cloud": {},
  "kernelspec": {
   "display_name": "Python 3",
   "language": "python",
   "name": "python3"
  },
  "language_info": {
   "codemirror_mode": {
    "name": "ipython",
    "version": 3
   },
   "file_extension": ".py",
   "mimetype": "text/x-python",
   "name": "python",
   "nbconvert_exporter": "python",
   "pygments_lexer": "ipython3",
   "version": "3.5.3"
  }
 },
 "nbformat": 4,
 "nbformat_minor": 1
}
